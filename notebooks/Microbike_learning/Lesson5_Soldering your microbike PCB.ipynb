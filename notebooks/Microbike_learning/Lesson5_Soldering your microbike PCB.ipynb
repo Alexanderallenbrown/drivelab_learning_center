{
 "cells": [
  {
   "cell_type": "markdown",
   "id": "b0b5483c-06bd-436d-8f28-d67ac2c4210f",
   "metadata": {},
   "source": [
    "## Lesson5: Solder your PCB board"
   ]
  },
  {
   "cell_type": "markdown",
   "id": "655765e1-d2ae-49f1-8943-374acf683811",
   "metadata": {},
   "source": [
    "### 1. Sloder safety and basics"
   ]
  },
  {
   "cell_type": "markdown",
   "id": "b424c1b6-f35e-491e-9ba4-7546876bc839",
   "metadata": {},
   "source": [
    "#### Preparation before soldering: \n",
    " - Clear the workspace of any flammable materials and ensure it is organized and free of clutter.\n",
    " - open the soldering fan(picture later)\n",
    " - Wear safety goggles to protect your eyes from solder splashes and fumes.(picture later)goggles are on the top of the soldering desk.\n",
    " - Have a damp sponge or brass wool tip cleaner ready to clean the soldering iron tip.\n",
    " - Knowing the location of a fire extinguisher nearby in case of emergencies.\n",
    " - preparing the solder iron. (in the first drawer on the left side of soldering desk)\n"
   ]
  },
  {
   "cell_type": "markdown",
   "id": "f622071f-fe8e-4cdb-908a-c8258a4ec9ec",
   "metadata": {},
   "source": [
    "#### During soldering: \n",
    " - Do not touch the sodering iron tip, it's extremely spicy! \n",
    " - Keep the soldering iron stable and use a stand to hold it when not in use.\n",
    " - Use a damp sponge or brass wool for cleaning the soldering iron tip.\n",
    " - Use tweezers or clamps to hold small components, keeping fingers away from the hot tip.\n",
    " - Allow the soldering iron to heat up completely.\n",
    " - Once hot, apply a small amount of solder to the tip and wipe off excess on a damp sponge to coat it with a thin layer of solder, enhancing heat transfer.\n",
    " - Place the soldering iron tip against both the component lead and the pad on the circuit board. This ensures both parts reach the soldering temperature.\n",
    " -  After a second or two, feed solder into the joint, not the iron. The solder should flow around the joint, creating a shiny, concave shape.\n",
    " -  Remove the solder wire first, then the soldering iron, allowing the joint to cool naturally.\n",
    " \n"
   ]
  },
  {
   "cell_type": "markdown",
   "id": "2413063c-a16d-4728-bc50-cd567dd10d77",
   "metadata": {},
   "source": [
    "#### After soldering: \n",
    "-  Check that the joint is shiny and smooth. A good solder joint should be cone-shaped.\n",
    "-  If the joint appears dull or grainy, reheat and apply more solder to ensure a solid connection.\n",
    "-  Use a multimeter to check for continuity and ensure all connections are solid.\n",
    "-  Turn off the soldering iron and unplug it.\n",
    "-  Dispose of solder waste, and clean up the soldering desk, put everything back to where they belong to. \n"
   ]
  },
  {
   "cell_type": "markdown",
   "id": "01849a7d-ed6e-43b8-9d9b-293116ef9e71",
   "metadata": {},
   "source": [
    "### 2. Solder your PCB board"
   ]
  },
  {
   "cell_type": "markdown",
   "id": "cb9f1da4-1940-44dd-a131-90ce82416aad",
   "metadata": {},
   "source": [
    "Need to add more here later after knowing which version of the PCB board new students will deal with"
   ]
  },
  {
   "cell_type": "code",
   "execution_count": null,
   "id": "79cd7ad1-e89c-49fc-8bd7-b9963253621a",
   "metadata": {},
   "outputs": [],
   "source": []
  },
  {
   "cell_type": "code",
   "execution_count": null,
   "id": "eff7f5d1-b196-4319-99af-6de3c6c26690",
   "metadata": {},
   "outputs": [],
   "source": []
  }
 ],
 "metadata": {
  "kernelspec": {
   "display_name": "Python 3 (ipykernel)",
   "language": "python",
   "name": "python3"
  },
  "language_info": {
   "codemirror_mode": {
    "name": "ipython",
    "version": 3
   },
   "file_extension": ".py",
   "mimetype": "text/x-python",
   "name": "python",
   "nbconvert_exporter": "python",
   "pygments_lexer": "ipython3",
   "version": "3.12.0"
  }
 },
 "nbformat": 4,
 "nbformat_minor": 5
}
